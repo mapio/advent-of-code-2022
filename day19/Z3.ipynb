{
 "cells": [
  {
   "cell_type": "code",
   "execution_count": 1,
   "metadata": {},
   "outputs": [],
   "source": [
    "from z3 import Int, IntVal, Optimize, Solver, Distinct, sat"
   ]
  },
  {
   "cell_type": "code",
   "execution_count": 2,
   "metadata": {},
   "outputs": [],
   "source": [
    "KIND = 'ore', 'clay', 'obsidian', 'geode'\n",
    "BP = [4, 2, 3, 14, 2, 7]\n",
    "T = 12"
   ]
  },
  {
   "cell_type": "code",
   "execution_count": 3,
   "metadata": {},
   "outputs": [
    {
     "data": {
      "text/plain": [
       "156"
      ]
     },
     "execution_count": 3,
     "metadata": {},
     "output_type": "execute_result"
    }
   ],
   "source": [
    "vars = dict()\n",
    "\n",
    "t = 0\n",
    "for k in KIND:\n",
    "  for p in 'BOR':\n",
    "    name = f'{p}{k}_{t}'\n",
    "    vars[name] = IntVal(1 if k == 'ore' and p == 'R' else 0)\n",
    "\n",
    "for t in range(1, T + 1):\n",
    "  for k in KIND: \n",
    "    for p in 'BOR': \n",
    "      name = f'{p}{k}_{t}'\n",
    "      vars[name] = Int(name)\n",
    "\n",
    "len(vars)"
   ]
  },
  {
   "cell_type": "code",
   "execution_count": 4,
   "metadata": {},
   "outputs": [
    {
     "data": {
      "text/plain": [
       "192"
      ]
     },
     "execution_count": 4,
     "metadata": {},
     "output_type": "execute_result"
    }
   ],
   "source": [
    "constr = list()\n",
    "\n",
    "for t in range(T):\n",
    "  Et = {\n",
    "    'ore': (\n",
    "      BP[0] * vars[f'Bore_{t}'] +\n",
    "      BP[1] * vars[f'Bclay_{t}'] +\n",
    "      BP[2] * vars[f'Bobsidian_{t}'] +\n",
    "      BP[4] * vars[f'Bgeode_{t}']\n",
    "    ),\n",
    "    'clay': BP[3] * vars[f'Bobsidian_{t}'],\n",
    "    'obsidian':  BP[5] * vars[f'Bgeode_{t}'],\n",
    "    'geode': 0\n",
    "  }\n",
    "  for k in KIND: \n",
    "    constr.append(vars[f'B{k}_{t}'] >= 0)\n",
    "    constr.append(vars[f'O{k}_{t}'] >= Et[k])\n",
    "    constr.append(vars[f'O{k}_{t + 1}'] == vars[f'O{k}_{t}'] - Et[k] + vars[f'R{k}_{t}'])\n",
    "    constr.append(vars[f'R{k}_{t + 1}'] == vars[f'R{k}_{t}'] + vars[f'B{k}_{t}'])  \n",
    "\n",
    "len(constr)"
   ]
  },
  {
   "cell_type": "code",
   "execution_count": 5,
   "metadata": {},
   "outputs": [
    {
     "data": {
      "text/plain": [
       "<z3.z3.OptimizeObjective at 0x7f88283d9f30>"
      ]
     },
     "execution_count": 5,
     "metadata": {},
     "output_type": "execute_result"
    }
   ],
   "source": [
    "o = Optimize()\n",
    "o.add(constr)\n",
    "o.maximize(vars[f'Ogeode_{T}'])"
   ]
  },
  {
   "cell_type": "code",
   "execution_count": 6,
   "metadata": {},
   "outputs": [
    {
     "data": {
      "text/html": [
       "<b>sat</b>"
      ],
      "text/plain": [
       "sat"
      ]
     },
     "execution_count": 6,
     "metadata": {},
     "output_type": "execute_result"
    }
   ],
   "source": [
    "o.check()"
   ]
  },
  {
   "cell_type": "code",
   "execution_count": 7,
   "metadata": {},
   "outputs": [
    {
     "name": "stdout",
     "output_type": "stream",
     "text": [
      "t=1\n",
      "ore: B 0 O 1 R 1 \n",
      "clay: B 0 O 0 R 0 \n",
      "obsidian: B 0 O 0 R 0 \n",
      "geode: B 0 O 0 R 0 \n",
      "t=2\n",
      "ore: B 0 O 2 R 1 \n",
      "clay: B 0 O 0 R 0 \n",
      "obsidian: B 0 O 0 R 0 \n",
      "geode: B 0 O 0 R 0 \n",
      "t=3\n",
      "ore: B 0 O 3 R 1 \n",
      "clay: B 0 O 0 R 0 \n",
      "obsidian: B 0 O 0 R 0 \n",
      "geode: B 0 O 0 R 0 \n",
      "t=4\n",
      "ore: B 0 O 4 R 1 \n",
      "clay: B 0 O 0 R 0 \n",
      "obsidian: B 0 O 0 R 0 \n",
      "geode: B 0 O 0 R 0 \n",
      "t=5\n",
      "ore: B 0 O 5 R 1 \n",
      "clay: B 0 O 0 R 0 \n",
      "obsidian: B 0 O 0 R 0 \n",
      "geode: B 0 O 0 R 0 \n",
      "t=6\n",
      "ore: B 0 O 6 R 1 \n",
      "clay: B 0 O 0 R 0 \n",
      "obsidian: B 0 O 0 R 0 \n",
      "geode: B 0 O 0 R 0 \n",
      "t=7\n",
      "ore: B 0 O 7 R 1 \n",
      "clay: B 0 O 0 R 0 \n",
      "obsidian: B 0 O 0 R 0 \n",
      "geode: B 0 O 0 R 0 \n",
      "t=8\n",
      "ore: B 0 O 8 R 1 \n",
      "clay: B 0 O 0 R 0 \n",
      "obsidian: B 0 O 0 R 0 \n",
      "geode: B 0 O 0 R 0 \n",
      "t=9\n",
      "ore: B 0 O 9 R 1 \n",
      "clay: B 0 O 0 R 0 \n",
      "obsidian: B 0 O 0 R 0 \n",
      "geode: B 0 O 0 R 0 \n",
      "t=10\n",
      "ore: B 0 O 10 R 1 \n",
      "clay: B 0 O 0 R 0 \n",
      "obsidian: B 0 O 0 R 0 \n",
      "geode: B 0 O 0 R 0 \n",
      "t=11\n",
      "ore: B 0 O 11 R 1 \n",
      "clay: B 0 O 0 R 0 \n",
      "obsidian: B 0 O 0 R 0 \n",
      "geode: B 0 O 0 R 0 \n",
      "t=12\n",
      "ore: O 12 R 1 \n",
      "clay: O 0 R 0 \n",
      "obsidian: O 0 R 0 \n",
      "geode: O 0 R 0 \n"
     ]
    }
   ],
   "source": [
    "m = o.model()\n",
    "for t in range(1, T + 1):\n",
    "  print(f'{t=}')\n",
    "  for k in KIND:\n",
    "    print(k, end = ': ')\n",
    "    for p in 'BOR': \n",
    "      if t == T and p == 'B': continue\n",
    "      name = f'{p}{k}_{t}'\n",
    "      print(p, m[vars[name]], end = ' ')\n",
    "    print()"
   ]
  }
 ],
 "metadata": {
  "kernelspec": {
   "display_name": "dir-aoc2022-870a675d95c3c1f6793ebc9cbd409f49",
   "language": "python",
   "name": "python3"
  },
  "language_info": {
   "codemirror_mode": {
    "name": "ipython",
    "version": 3
   },
   "file_extension": ".py",
   "mimetype": "text/x-python",
   "name": "python",
   "nbconvert_exporter": "python",
   "pygments_lexer": "ipython3",
   "version": "3.10.6"
  },
  "orig_nbformat": 4,
  "vscode": {
   "interpreter": {
    "hash": "81ba3750df5e57c7af36b25f612fd2a1bf12a9a8b52ace16c56203cb67a679c2"
   }
  }
 },
 "nbformat": 4,
 "nbformat_minor": 2
}
